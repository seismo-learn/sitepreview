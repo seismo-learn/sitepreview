{
 "cells": [
  {
   "cell_type": "markdown",
   "id": "7b4e183b",
   "metadata": {},
   "source": [
    "# 准备工作\n",
    "\n",
    "- 本节贡献者: {{田冬冬}}（作者）\n",
    "- 最近更新日期: 2022-06-12\n",
    "- 预计花费时间: 10 分钟\n",
    "\n",
    "---\n",
    "\n",
    "这一章，我们将使用 Python 语言和 [ObsPy 软件包](https://docs.obspy.org/)\n",
    "学习并掌握地震学数据的获取、处理和分析。在开始本章内容之前，读者应：\n",
    "\n",
    "- 阅读《{doc}`/programming/python`》一节，并安装 Miniconda 和 `mamba`\n",
    "- 掌握 Python 的基本语法并了解如何执行 Python 代码\n",
    "\n",
    "## 安装依赖包\n",
    "\n",
    "本章中的地震学实践需要使用如下 Python 包：\n",
    "\n",
    "- [ObsPy](https://docs.obspy.org/): 用于地震数据获取、处理和分析\n",
    "- [cartopy](https://scitools.org.uk/cartopy/): 用于绘制地图\n",
    "- [JupyterLab](https://jupyterlab.readthedocs.io/): 基于浏览器的交互式开发环境\n",
    "\n",
    "通过如下命令安装所需依赖包：\n",
    "\n",
    "```\n",
    "$ mamba install obspy cartopy jupyterlab\n",
    "```\n",
    "\n",
    "## 检查当前环境\n",
    "\n",
    "开启一个终端，在终端中键入 `jupyter lab` 命令来启动 JupyterLab。\n",
    "在 JupyterLab 中新建一个 Notebook，并在 Notebook 中执行如下命令以检查当前环境。"
   ]
  },
  {
   "cell_type": "code",
   "execution_count": 1,
   "id": "6c868143",
   "metadata": {},
   "outputs": [
    {
     "name": "stdout",
     "output_type": "stream",
     "text": [
      "ObsPy version: 1.4.0\n",
      "Matplotlib version: 3.7.0\n",
      "NumPy version: 1.24.2\n",
      "cartopy version: 0.21.1\n"
     ]
    }
   ],
   "source": [
    "import obspy\n",
    "import matplotlib\n",
    "import numpy\n",
    "import cartopy\n",
    "\n",
    "print(\"ObsPy version:\", obspy.__version__)\n",
    "print(\"Matplotlib version:\", matplotlib.__version__)\n",
    "print(\"NumPy version:\", numpy.__version__)\n",
    "print(\"cartopy version:\", cartopy.__version__)"
   ]
  }
 ],
 "metadata": {
  "jupytext": {
   "text_representation": {
    "extension": ".md",
    "format_name": "myst",
    "format_version": 0.13,
    "jupytext_version": "1.13.0"
   }
  },
  "kernelspec": {
   "display_name": "Python 3",
   "language": "python",
   "name": "python3"
  },
  "language_info": {
   "codemirror_mode": {
    "name": "ipython",
    "version": 3
   },
   "file_extension": ".py",
   "mimetype": "text/x-python",
   "name": "python",
   "nbconvert_exporter": "python",
   "pygments_lexer": "ipython3",
   "version": "3.10.9"
  },
  "source_map": [
   12,
   47
  ]
 },
 "nbformat": 4,
 "nbformat_minor": 5
}