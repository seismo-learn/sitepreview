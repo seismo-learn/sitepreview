{
 "cells": [
  {
   "cell_type": "markdown",
   "id": "077a253e",
   "metadata": {},
   "source": [
    "# 震中距、方位角与反方位角\n",
    "\n",
    "## 震中距\n",
    "\n",
    "一般来说，球面上任意两点都可以和球心确定唯一的大圆（*great circle*）。\n",
    "在大圆上，连接这两点的弧有两条，较短的叫优弧（*minor arc*），较长的叫\n",
    "劣弧（*major arc*）。\n",
    "\n",
    "震中距指连接震中和地面上任意一点的优弧的长度。\n",
    "\n",
    "```{note}\n",
    "震中距的单位一般为 km 或度（°）。km 常用于近震，度常用于远震。\n",
    "\n",
    "假设地球是完美球体，半径 $R_0$ 为 6371 km：\n",
    "\n",
    "$$\n",
    "1° = \\frac{\\pi*R_0}{180} km \\approx 111.19492 km\n",
    "$$\n",
    "\n",
    "$$\n",
    "1 km = \\frac{180}{\\pi*R_0}° \\approx 0.00899°\n",
    "$$\n",
    "```\n",
    "\n",
    "## 方位角和反方位角\n",
    "\n",
    "方位角（azimuth，常简写为 azi）是震中到台站的连线与地理北向的顺时针夹角，而反方位角\n",
    "（back azimuth，常简写为 baz）指台站到震中的连线与地理北向的顺时针夹角。\n",
    "\n",
    "```{note}\n",
    "方位角和反方位角一般并不是相差 180°。例如，地震和台站分别位于（0°N，0°E）和（40°N，120°E）\n",
    "时，方位角约为 46°，反方位角约为 290°，相差 244°。\n",
    "```\n",
    "\n",
    "```{image} az-baz.*\n",
    ":alt: 震中距、方位角、反方位角示意图\n",
    ":width: 50.0%\n",
    ":align: center\n",
    "```\n",
    "\n",
    "## 理论计算\n",
    "\n",
    "点击链接下载源代码：{nb-download}`distaz.ipynb` 或 {download}`distaz.md`."
   ]
  },
  {
   "cell_type": "code",
   "execution_count": 1,
   "id": "75239f4b",
   "metadata": {},
   "outputs": [
    {
     "name": "stdout",
     "output_type": "stream",
     "text": [
      "2466.4210675597396 22.18105755349615 25.651618610049262 207.4193805941954\n"
     ]
    }
   ],
   "source": [
    "from obspy.geodetics import gps2dist_azimuth, kilometers2degrees\n",
    "# 事件和台站的经纬度\n",
    "evla, evlo, stla, stlo = 0, 0, 20, 10\n",
    "# 计算事件和台站的距离、方位角以及反方位角\n",
    "dist, az, baz = gps2dist_azimuth(evla, evlo, stla, stlo)\n",
    "dist /= 1000.0  # 距离单位默认是 m，转换为 km\n",
    "gcarc = kilometers2degrees(dist)  # 转换为角度\n",
    "print(dist, gcarc, az, baz)"
   ]
  },
  {
   "cell_type": "markdown",
   "id": "2deb3b96",
   "metadata": {},
   "source": [
    "## 参考文档\n",
    "\n",
    "- [https://service.iris.edu/irisws/rotation/docs/1/help/](https://service.iris.edu/irisws/rotation/docs/1/help/)"
   ]
  }
 ],
 "metadata": {
  "jupytext": {
   "text_representation": {
    "extension": ".md",
    "format_name": "myst",
    "format_version": 0.13,
    "jupytext_version": "1.13.0"
   }
  },
  "kernelspec": {
   "display_name": "Python 3",
   "language": "python",
   "name": "python3"
  },
  "language_info": {
   "codemirror_mode": {
    "name": "ipython",
    "version": 3
   },
   "file_extension": ".py",
   "mimetype": "text/x-python",
   "name": "python",
   "nbconvert_exporter": "python",
   "pygments_lexer": "ipython3",
   "version": "3.10.9"
  },
  "source_map": [
   12,
   58,
   67
  ]
 },
 "nbformat": 4,
 "nbformat_minor": 5
}